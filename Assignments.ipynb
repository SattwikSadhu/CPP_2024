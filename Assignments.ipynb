{
  "metadata": {
    "kernelspec": {
      "name": "python",
      "display_name": "Python (Pyodide)",
      "language": "python"
    },
    "language_info": {
      "codemirror_mode": {
        "name": "python",
        "version": 3
      },
      "file_extension": ".py",
      "mimetype": "text/x-python",
      "name": "python",
      "nbconvert_exporter": "python",
      "pygments_lexer": "ipython3",
      "version": "3.8"
    }
  },
  "nbformat_minor": 4,
  "nbformat": 4,
  "cells": [
    {
      "cell_type": "markdown",
      "source": "# **Basic Python**",
      "metadata": {}
    },
    {
      "cell_type": "markdown",
      "source": "## 1.a \nGive a function F that takes a single argument n. This function should print a sequence of n strings as described in the examples below: <br>\nEx: **n = 3**\n\n--A--<br>\n-BAB-<br>\nCBABC<br>\n\n**n = 4**\n\n---A---<br>\n--BAB--<br>\n-CBABC-<br>\nDCBABCD",
      "metadata": {}
    },
    {
      "cell_type": "code",
      "source": "def F(n):\n    A=ord('A')\n    for i in range(n):\n        print('-'*(n-1-i)+''.join(chr(A+abs(i)) for i in range(-i,i+1))+'-'*(n-1-i))\n    pass\n\n# Tests\nF(10)\nF(6)",
      "metadata": {
        "trusted": true
      },
      "outputs": [
        {
          "name": "stdout",
          "text": "---------A---------\n--------BAB--------\n-------CBABC-------\n------DCBABCD------\n-----EDCBABCDE-----\n----FEDCBABCDEF----\n---GFEDCBABCDEFG---\n--HGFEDCBABCDEFGH--\n-IHGFEDCBABCDEFGHI-\nJIHGFEDCBABCDEFGHIJ\n-----A-----\n----BAB----\n---CBABC---\n--DCBABCD--\n-EDCBABCDE-\nFEDCBABCDEF\n",
          "output_type": "stream"
        }
      ],
      "execution_count": 11
    },
    {
      "cell_type": "markdown",
      "source": "## 1.b\nMake a function F that takes only one argument, a dictionary(dict) d.\nThe keys of d are integers and the values of d are a tuple of type (x (int), y (int)).\nYou must print out the dict in the format \"-key-, -x-, -y-\" with each entry in a new line. Print it for each of the three sorted orders, by key values ascending, by x values descending, by y values ascending.",
      "metadata": {}
    },
    {
      "cell_type": "code",
      "source": "def F(d : dict):\n    print('key values ascending :')\n    for i in sorted(d):\n        print(i,',',d[i][0],',',d[i][1])\n    print('x values descending :')\n    for i in sorted(d.items(),key=lambda x:x[1][0],reverse=True):\n        print(i[0],',',i[1][0],',',i[1][1])\n    print('y values ascending :')\n    for i in sorted(d.items(),key=lambda x:x[1][1]):\n        print(i[0],',',i[1][0],',',i[1][1])\n    pass\n\n# Tests\nF({1 : (1, 2), 2 : (-1, 4), 5 : (-4, 3), 4 : (2, 3)})\nF({-8 : (4, 2), 6 : (-3, 4), 7 : (2, 1), 5 : (9, -10)})",
      "metadata": {
        "trusted": true
      },
      "outputs": [
        {
          "name": "stdout",
          "text": "key values ascending :\n1 , 1 , 2\n2 , -1 , 4\n4 , 2 , 3\n5 , -4 , 3\nx values descending :\n4 , 2 , 3\n1 , 1 , 2\n2 , -1 , 4\n5 , -4 , 3\ny values ascending :\n1 , 1 , 2\n5 , -4 , 3\n4 , 2 , 3\n2 , -1 , 4\nkey values ascending :\n-8 , 4 , 2\n5 , 9 , -10\n6 , -3 , 4\n7 , 2 , 1\nx values descending :\n5 , 9 , -10\n-8 , 4 , 2\n7 , 2 , 1\n6 , -3 , 4\ny values ascending :\n5 , 9 , -10\n7 , 2 , 1\n-8 , 4 , 2\n6 , -3 , 4\n",
          "output_type": "stream"
        }
      ],
      "execution_count": 33
    },
    {
      "cell_type": "markdown",
      "source": "## 2 Working with Student Records\n\nUse the data in **student_records.csv** to complete the given tasks. Do not include any external libraries. Use a Python dictionary if required.\n\n### Reference\n- [Python Dictionaries](https://www.w3schools.com/python/python_dictionaries.asp)\n",
      "metadata": {}
    },
    {
      "cell_type": "markdown",
      "source": "#### 2.a: open the student_records.csv file and print out the first 10 rows",
      "metadata": {}
    },
    {
      "cell_type": "code",
      "source": "l=[]\nfor i in open('student_records.csv',mode='r'):\n    l.append(i.rstrip().split(','))\nfor j in range(5):\n    if j==2:print(l[0][j],end='\\t\\t')\n    else:print(l[0][j],end='\\t')\nprint(l[0][5])\nfor i in range(1,11):\n    for j in range(5):\n        print(l[i][j],end='\\t\\t')\n    print(l[i][5])\ndel l[0]",
      "metadata": {
        "trusted": true
      },
      "outputs": [
        {
          "name": "stdout",
          "text": "roll_number\tdepartment\tcredit\t\tcourse_name\tcourse_type\tgrade\n588946\t\tMA\t\t3\t\tEC250\t\thasmed_elective\t\tAB\n145372\t\tEP\t\t4\t\tEP407\t\thasmed_elective\t\tCC\n834515\t\tMA\t\t8\t\tEP885\t\thasmed_elective\t\tBB\n344265\t\tCSE\t\t6\t\tCSE699\t\thonours\t\tAB\n358405\t\tMA\t\t3\t\tEE460\t\tminor\t\tAP\n781075\t\tCE\t\t8\t\tCE540\t\thonours\t\tCC\n180828\t\tCSE\t\t6\t\tCE880\t\tminor\t\tAB\n981238\t\tMM\t\t4\t\tCSE226\t\tminor\t\tAB\n836881\t\tMM\t\t8\t\tMM530\t\tcore\t\tAA\n310604\t\tEE\t\t8\t\tEE202\t\tcore\t\tAB\n",
          "output_type": "stream"
        }
      ],
      "execution_count": 50
    },
    {
      "cell_type": "markdown",
      "source": "#### 2.b: Print out the total credits and calculte CPI of each student. \nCPI is the weighted average of core courses, and electives (weights being the letter grades converted to number AP,AA=10, AB=9, BB=9, BC=7, CC=6)",
      "metadata": {}
    },
    {
      "cell_type": "code",
      "source": "#l0=list(set([l[i][0] for i in range(len(l))]))\ngrad2num={'AP':10,'AA':10,'AB':9,'BB':8,'BC':7,'CC':6}\nprint('roll_number\\ttotal_credits\\t CPI')\nfor i in l0:\n    indices=[j for j,x in enumerate(l) if x[0]==i]\n    s=sum([int(l[j][2]) for j in indices])\n    indices1=[j for j in indices if l[j][4] in ['core','department_elective','felxible_elective','hasmed_elective']]\n    grades=[grad2num[k] for k in [l[j][5] for j in indices1]]\n    credits=[int(l[j][2]) for j in indices1]\n    cpi=sum([j*k for j,k in zip(grades,credits)])/sum(credits)\n    print(i,'\\t\\t',s,'\\t\\t','%.2f'%(cpi))",
      "metadata": {
        "trusted": true
      },
      "outputs": [
        {
          "name": "stdout",
          "text": "roll_number\ttotal_credits\t CPI\n581065 \t\t 196 \t\t 8.07\n482623 \t\t 254 \t\t 8.52\n680096 \t\t 153 \t\t 8.35\n834515 \t\t 199 \t\t 8.10\n159438 \t\t 176 \t\t 8.43\n381526 \t\t 160 \t\t 7.94\n381227 \t\t 179 \t\t 8.04\n327122 \t\t 246 \t\t 8.24\n981238 \t\t 168 \t\t 8.28\n681499 \t\t 234 \t\t 8.25\n145372 \t\t 173 \t\t 7.43\n465496 \t\t 168 \t\t 8.35\n572815 \t\t 212 \t\t 8.59\n851029 \t\t 161 \t\t 8.25\n775967 \t\t 197 \t\t 8.78\n782129 \t\t 184 \t\t 8.62\n841365 \t\t 177 \t\t 8.02\n788020 \t\t 193 \t\t 8.09\n124663 \t\t 229 \t\t 8.23\n960395 \t\t 262 \t\t 8.83\n628849 \t\t 183 \t\t 9.11\n773982 \t\t 264 \t\t 7.78\n733782 \t\t 169 \t\t 8.64\n458200 \t\t 190 \t\t 8.72\n716985 \t\t 185 \t\t 7.74\n478606 \t\t 244 \t\t 8.69\n879634 \t\t 203 \t\t 8.72\n836431 \t\t 160 \t\t 7.65\n199713 \t\t 172 \t\t 7.98\n973158 \t\t 193 \t\t 8.38\n955757 \t\t 251 \t\t 8.03\n207443 \t\t 161 \t\t 8.19\n310604 \t\t 198 \t\t 8.22\n358405 \t\t 206 \t\t 8.21\n500658 \t\t 208 \t\t 8.12\n718510 \t\t 184 \t\t 8.70\n143856 \t\t 201 \t\t 8.49\n581858 \t\t 216 \t\t 7.82\n270007 \t\t 241 \t\t 7.75\n364146 \t\t 225 \t\t 8.77\n138296 \t\t 200 \t\t 7.99\n608952 \t\t 251 \t\t 8.31\n888886 \t\t 207 \t\t 8.28\n881983 \t\t 169 \t\t 8.20\n928288 \t\t 191 \t\t 8.85\n294697 \t\t 269 \t\t 8.49\n150503 \t\t 173 \t\t 8.43\n571782 \t\t 217 \t\t 8.22\n870642 \t\t 161 \t\t 8.17\n143142 \t\t 234 \t\t 8.56\n816041 \t\t 158 \t\t 7.79\n871746 \t\t 216 \t\t 7.79\n847809 \t\t 261 \t\t 8.27\n613401 \t\t 209 \t\t 8.25\n588946 \t\t 199 \t\t 8.67\n362471 \t\t 214 \t\t 8.11\n589528 \t\t 153 \t\t 8.54\n630568 \t\t 217 \t\t 8.42\n608522 \t\t 159 \t\t 8.78\n534763 \t\t 158 \t\t 7.84\n993835 \t\t 175 \t\t 8.42\n781075 \t\t 246 \t\t 8.47\n461584 \t\t 234 \t\t 8.48\n692318 \t\t 216 \t\t 8.09\n344265 \t\t 153 \t\t 8.90\n265922 \t\t 236 \t\t 8.25\n388969 \t\t 229 \t\t 8.40\n721490 \t\t 235 \t\t 8.35\n582912 \t\t 221 \t\t 9.28\n845623 \t\t 237 \t\t 8.53\n787967 \t\t 192 \t\t 8.77\n180828 \t\t 177 \t\t 7.90\n144528 \t\t 228 \t\t 8.57\n971123 \t\t 210 \t\t 7.55\n810863 \t\t 192 \t\t 8.06\n194063 \t\t 157 \t\t 7.95\n214270 \t\t 229 \t\t 7.51\n488661 \t\t 248 \t\t 8.45\n970791 \t\t 220 \t\t 7.94\n998293 \t\t 207 \t\t 8.56\n750259 \t\t 209 \t\t 8.31\n282482 \t\t 228 \t\t 7.88\n907454 \t\t 245 \t\t 8.03\n986057 \t\t 199 \t\t 7.93\n391848 \t\t 217 \t\t 8.35\n597353 \t\t 200 \t\t 8.08\n203200 \t\t 157 \t\t 8.65\n208100 \t\t 182 \t\t 8.73\n461971 \t\t 252 \t\t 8.39\n517837 \t\t 205 \t\t 8.33\n836881 \t\t 246 \t\t 7.92\n995208 \t\t 157 \t\t 7.59\n283796 \t\t 211 \t\t 8.88\n301135 \t\t 206 \t\t 8.32\n521087 \t\t 223 \t\t 7.60\n329535 \t\t 157 \t\t 8.26\n703403 \t\t 254 \t\t 8.52\n379479 \t\t 260 \t\t 8.17\n485484 \t\t 216 \t\t 8.66\n626000 \t\t 210 \t\t 8.32\n",
          "output_type": "stream"
        }
      ],
      "execution_count": 218
    },
    {
      "cell_type": "markdown",
      "source": "#### 2.c: Print out the names of all students who meet the graduation requirements \nAtleast 20 credist of core course, 15 credits of department elective, 10 credits of flexible elective and 5 credits of hasmed electives",
      "metadata": {}
    },
    {
      "cell_type": "code",
      "source": "for i in l0:\n    indices1=[j for j,x in enumerate(l) if x[0]==i and x[4]=='core']\n    indices2=[j for j,x in enumerate(l) if x[0]==i and x[4]=='department_elective']\n    indices3=[j for j,x in enumerate(l) if x[0]==i and x[4]=='felxible_elective']\n    indices4=[j for j,x in enumerate(l) if x[0]==i and x[4]=='hasmed_elective']\n    if(sum([int(l[j][2]) for j in indices1])>=20\n       and sum([int(l[j][2]) for j in indices2])>=15\n       and sum([int(l[j][2]) for j in indices3])>=10\n       and sum([int(l[j][2]) for j in indices4])>=5):print(i)",
      "metadata": {
        "trusted": true
      },
      "outputs": [
        {
          "name": "stdout",
          "text": "581065\n482623\n834515\n159438\n381227\n327122\n981238\n681499\n572815\n782129\n124663\n960395\n628849\n773982\n716985\n879634\n973158\n955757\n207443\n310604\n500658\n143856\n581858\n608952\n888886\n881983\n928288\n294697\n150503\n571782\n143142\n871746\n588946\n362471\n630568\n608522\n534763\n781075\n692318\n265922\n388969\n721490\n845623\n787967\n180828\n144528\n971123\n810863\n214270\n488661\n970791\n998293\n750259\n282482\n986057\n391848\n203200\n461971\n517837\n836881\n283796\n521087\n703403\n379479\n485484\n626000\n",
          "output_type": "stream"
        }
      ],
      "execution_count": 86
    },
    {
      "cell_type": "markdown",
      "source": "#### 2.d: Print out the names of all students who completed a minor \nAtleast 10 credits with minor tag in a specific department",
      "metadata": {}
    },
    {
      "cell_type": "code",
      "source": "for i in l0:\n    indices=[j for j,x in enumerate(l) if x[0]==i and x[4]=='minor']\n    if(sum([int(l[j][2]) for j in indices])>=10):print(i)",
      "metadata": {
        "trusted": true
      },
      "outputs": [
        {
          "name": "stdout",
          "text": "581065\n482623\n680096\n834515\n159438\n381526\n381227\n327122\n981238\n681499\n145372\n465496\n572815\n851029\n775967\n782129\n841365\n788020\n124663\n960395\n628849\n773982\n733782\n458200\n716985\n478606\n879634\n836431\n199713\n973158\n955757\n207443\n358405\n500658\n718510\n143856\n581858\n270007\n364146\n138296\n608952\n888886\n881983\n294697\n150503\n571782\n143142\n816041\n871746\n847809\n613401\n588946\n362471\n630568\n608522\n534763\n993835\n781075\n461584\n692318\n344265\n265922\n388969\n721490\n582912\n845623\n787967\n180828\n144528\n971123\n810863\n194063\n214270\n488661\n970791\n998293\n750259\n282482\n907454\n986057\n391848\n597353\n203200\n208100\n461971\n517837\n836881\n995208\n283796\n301135\n521087\n329535\n703403\n379479\n485484\n626000\n",
          "output_type": "stream"
        }
      ],
      "execution_count": 82
    },
    {
      "cell_type": "markdown",
      "source": "#### 2.e: Print out the names of all students who completed a honours\nAtleast 10 credits with honours tag and 20 core credits",
      "metadata": {}
    },
    {
      "cell_type": "code",
      "source": "for i in l0:\n    indices1=[j for j,x in enumerate(l) if x[0]==i and x[4]=='honours']\n    indices2=[j for j,x in enumerate(l) if x[0]==i and x[4]=='core']\n    if(sum([int(l[j][2]) for j in indices1])>=10 and sum([int(l[j][2]) for j in indices2])>=20):print(i)",
      "metadata": {
        "trusted": true
      },
      "outputs": [
        {
          "name": "stdout",
          "text": "581065\n482623\n834515\n159438\n327122\n681499\n145372\n465496\n572815\n782129\n788020\n124663\n960395\n628849\n773982\n458200\n716985\n879634\n199713\n973158\n955757\n207443\n310604\n500658\n718510\n143856\n581858\n364146\n608952\n888886\n881983\n928288\n294697\n150503\n571782\n870642\n143142\n871746\n613401\n588946\n362471\n589528\n630568\n608522\n534763\n781075\n692318\n265922\n388969\n721490\n582912\n845623\n787967\n144528\n971123\n810863\n214270\n488661\n970791\n998293\n750259\n282482\n986057\n391848\n203200\n208100\n461971\n517837\n836881\n283796\n521087\n703403\n379479\n485484\n626000\n",
          "output_type": "stream"
        }
      ],
      "execution_count": 84
    },
    {
      "cell_type": "markdown",
      "source": "# **SciPy** ",
      "metadata": {}
    },
    {
      "cell_type": "markdown",
      "source": "## Part A\nMinimize the function $f(x, y) = 2(x - y - 3)^2 + 4(x + 2y + 1)^4$.<br>\nWith the constraints : $ x - y \\ge -3, (x + 2)^2 + (y + 1)^2 \\le 5$ <br>\nUsing scipy.optimize.minimize with constraints. (Hint: Look at the examples in the official documentation)",
      "metadata": {}
    },
    {
      "cell_type": "code",
      "source": "from scipy.optimize import minimize as m\ndef f(x):\n    return 2*(x[0]-x[1]-3)**2+4*(x[0]+2*x[1]+1)**4\ncons={'type':'ineq','fun':lambda x:[x[0]-x[1]+3,5-(x[0]+2)**2-(x[1]+1)**2]}\nprint(m(f,[0,0],constraints=cons))",
      "metadata": {
        "trusted": true
      },
      "outputs": [
        {
          "name": "stdout",
          "text": " message: Optimization terminated successfully\n success: True\n  status: 0\n     fun: 7.345026216977383\n       x: [ 2.349e-01 -9.285e-01]\n     nit: 9\n     jac: [-1.120e+01 -3.582e-01]\n    nfev: 31\n    njev: 9\n",
          "output_type": "stream"
        }
      ],
      "execution_count": 123
    },
    {
      "cell_type": "markdown",
      "source": "# Part B\nEvaluate the line integral of the function $f(x, y) = x^2 + y^4$ along the circle $ x^2 + y^2 = 3 $ anticlockwise (scalar integral, not vector). You must use scipy for integration but you may use parameterization",
      "metadata": {}
    },
    {
      "cell_type": "code",
      "source": "import math\nimport scipy.integrate as i\ndef f(phi):\n    x=math.sqrt(3)*math.cos(phi)\n    y=math.sqrt(3)*math.sin(phi)\n    return x**2+y**4\nprint('result : ',i.quad(f,0,2*math.pi)[0])\nprint(r'True value = 39π/4 = ',.25*39*math.pi)",
      "metadata": {
        "trusted": true
      },
      "outputs": [
        {
          "name": "stdout",
          "text": "result :  30.630528372500475\nTrue value = 39π/4 =  30.630528372500482\n",
          "output_type": "stream"
        }
      ],
      "execution_count": 136
    },
    {
      "cell_type": "markdown",
      "source": "# **Numpy**",
      "metadata": {}
    },
    {
      "cell_type": "markdown",
      "source": "### Read Lisan_Al_Gaib.pdf for problem description and complete the following functions",
      "metadata": {}
    },
    {
      "cell_type": "code",
      "source": "import time # to time the execution\nimport numpy as np\nimport matplotlib.pyplot as plt",
      "metadata": {
        "trusted": true
      },
      "outputs": [],
      "execution_count": 137
    },
    {
      "cell_type": "code",
      "source": "### TODO 1\n### Load data from data_path\n### Check the input file spice_locations.txt to understand the Data Format\n### Return : np array of size Nx2\ndef load_data(data_path):\n    return np.loadtxt(data_path,delimiter=',')",
      "metadata": {
        "trusted": true
      },
      "outputs": [],
      "execution_count": 142
    },
    {
      "cell_type": "code",
      "source": "### TODO 2.1\n### If init_centers is None, initialize the centers by selecting K data points at random without replacement\n### Else, use the centers provided in init_centers\n### Return : np array of size Kx2\ndef initialise_centers(data, K, init_centers=None):\n    if init_centers==None:centers=data[np.random.choice(data.shape[0],K,replace=False)]\n    else:centers=init_centers\n    return centers",
      "metadata": {
        "trusted": true
      },
      "outputs": [],
      "execution_count": 163
    },
    {
      "cell_type": "code",
      "source": "### TODO 2.2\n### Initialize the labels to all ones to size (N,) where N is the number of data points\n### Return : np array of size N\ndef initialise_labels(data):\n    return np.ones(data.shape[0])",
      "metadata": {
        "trusted": true
      },
      "outputs": [],
      "execution_count": 164
    },
    {
      "cell_type": "code",
      "source": "### TODO 3.1 : E step\n### For Each data point, find the distance to each center\n### Return : np array of size NxK\ndef calculate_distances(data, centers):\n    a=np.diag(data@data.T)\n    b=np.diag(centers@centers.T)\n    return np.sqrt(a[:,np.newaxis]+b-2*data@centers.T)",
      "metadata": {
        "trusted": true
      },
      "outputs": [],
      "execution_count": 174
    },
    {
      "cell_type": "code",
      "source": "### TODO 3.2 : E step\n### For Each data point, assign the label of the nearest center\n### Return : np array of size N\ndef update_labels(distances):\n    return np.argmin(distances,axis=1)",
      "metadata": {
        "trusted": true
      },
      "outputs": [],
      "execution_count": 178
    },
    {
      "cell_type": "code",
      "source": "### TODO 4 : M step\n### Update the centers to the mean of the data points assigned to it\n### Return : np array of size Kx2\ndef update_centers(data, labels, K):\n    mask=np.zeros((data.shape[0],K))\n    mask[np.arange(data.shape[0]),labels]=1\n    return mask.T@data/mask.sum(0)[:,np.newaxis]",
      "metadata": {
        "trusted": true
      },
      "outputs": [],
      "execution_count": 208
    },
    {
      "cell_type": "code",
      "source": "### TODO 6 : Check convergence\n### Check if the labels have changed from the previous iteration\n### Return : True / False\ndef check_termination(labels1, labels2):\n    return (labels1==labels2).all()",
      "metadata": {
        "trusted": true
      },
      "outputs": [],
      "execution_count": 214
    },
    {
      "cell_type": "code",
      "source": "### DON'T CHANGE ANYTHING IN THE FOLLOWING FUNCTION\ndef kmeans(data_path:str, K:int, init_centers):\n    '''\n    Input :\n        data (type str): path to the file containing the data\n        K (type int): number of clusters\n        init_centers (type numpy.ndarray): initial centers. shape = (K, 2) or None\n    Output :\n        centers (type numpy.ndarray): final centers. shape = (K, 2)\n        labels (type numpy.ndarray): label of each data point. shape = (N,)\n        time (type float): time taken by the algorithm to converge in seconds\n    N is the number of data points each of shape (2,)\n    '''\n    data = load_data(data_path)    \n    centers = initialise_centers(data, K, init_centers)\n    labels = initialise_labels(data)\n\n    start_time = time.time() # Time stamp \n\n    while True:\n        distances = calculate_distances(data, centers)\n        labels_new = update_labels(distances)\n        centers = update_centers(data, labels_new, K)\n        if check_termination(labels, labels_new): break\n        else: labels = labels_new\n \n    end_time = time.time() # Time stamp after the algorithm ends\n    return centers, labels, end_time - start_time ",
      "metadata": {
        "trusted": true
      },
      "outputs": [],
      "execution_count": 215
    },
    {
      "cell_type": "code",
      "source": "### TODO 7\ndef visualise(data_path, labels, centers):\n    data = load_data(data_path)\n\n    # Scatter plot of the data points\n    plt.scatter(data[:, 0], data[:, 1], c=labels, s=50, cmap='viridis')\n    plt.scatter(centers[:, 0], centers[:, 1], c='black', s=200, alpha=0.5)\n\n    ### Set title as 'K-means clustering'\n    plt.title('K-means clustering')\n    ### Set xlabel as 'Longitude'\n    plt.xlabel('Longitude')\n    ### Set ylabel as 'Latitude'\n    plt.ylabel('Latitude')\n    ### Save the plot as 'kmeans.png'\n    plt.savefig('kmeans.png')\n\n    ## DO NOT CHANGE THE FOLLOWING LINE\n    return plt",
      "metadata": {
        "trusted": true
      },
      "outputs": [],
      "execution_count": 219
    },
    {
      "cell_type": "code",
      "source": "### After you have completed the above functions, run the following code to generate the plot\ndata_path = 'spice_locations.txt'\nK, init_centers = 2, None\ncenters, labels, time_taken = kmeans(data_path, K, init_centers)\nprint('Time taken for the algorithm to converge:', time_taken)\nvisualise(data_path, labels, centers)",
      "metadata": {
        "trusted": true
      },
      "outputs": [
        {
          "name": "stdout",
          "text": "Time taken for the algorithm to converge: 0.0\n",
          "output_type": "stream"
        },
        {
          "execution_count": 220,
          "output_type": "execute_result",
          "data": {
            "text/plain": "<module 'matplotlib.pyplot' from '/lib/python3.12/site-packages/matplotlib/pyplot.py'>"
          },
          "metadata": {}
        },
        {
          "output_type": "display_data",
          "data": {
            "text/plain": "<Figure size 640x480 with 1 Axes>",
            "image/png": "[encoded data removed]"
          },
          "metadata": {}
        }
      ],
      "execution_count": 220
    }
  ]
}